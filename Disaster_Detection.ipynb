{
 "cells": [
  {
   "cell_type": "code",
   "execution_count": 1,
   "metadata": {},
   "outputs": [],
   "source": [
    "import os\n",
    "import gc\n",
    "import re\n",
    "import string\n",
    "import operator\n",
    "import numpy as np # Linear algebra\n",
    "import pandas as pd # Data processing, CSV file I/O (e.g. pd.read_csv)\n",
    "import seaborn as sns\n",
    "import tensorflow as tf\n",
    "import tensorflow_hub as hub\n",
    "from tensorflow import keras\n",
    "import matplotlib.pyplot as plt\n",
    "from wordcloud import STOPWORDS\n",
    "from collections import defaultdict\n",
    "from tensorflow.keras.optimizers import SGD, Adam\n",
    "from tensorflow.keras.models import Model, Sequential\n",
    "from sklearn.metrics import precision_score, recall_score, f1_score\n",
    "from sklearn.model_selection import StratifiedKFold, StratifiedShuffleSplit\n",
    "from tensorflow.keras.callbacks import ModelCheckpoint, EarlyStopping, Callback\n",
    "from tensorflow.keras.layers import Dense, Input, Dropout, GlobalAveragePooling1D\n",
    "from sklearn import feature_extraction, linear_model, model_selection, preprocessing\n",
    "import tokenization\n",
    "SEED = 1337"
   ]
  },
  {
   "cell_type": "code",
   "execution_count": 2,
   "metadata": {},
   "outputs": [
    {
     "data": {
      "text/plain": [
       "'/root/capsule/code'"
      ]
     },
     "execution_count": 2,
     "metadata": {},
     "output_type": "execute_result"
    }
   ],
   "source": [
    "pwd"
   ]
  },
  {
   "cell_type": "code",
   "execution_count": 3,
   "metadata": {},
   "outputs": [],
   "source": [
    "# Reading the training and testing dataset\n",
    "train_df = pd.read_csv(\"/root/capsule/data/train.csv\")\n",
    "test_df = pd.read_csv(\"/root/capsule/data/test.csv\")"
   ]
  },
  {
   "cell_type": "code",
   "execution_count": 4,
   "metadata": {},
   "outputs": [
    {
     "name": "stdout",
     "output_type": "stream",
     "text": [
      "There are 7613 rows and 5 columns in training data frame\n",
      "Training data frame memory usage is 0.29 MB\n"
     ]
    }
   ],
   "source": [
    "print('There are {} rows and {} columns in training data frame\\nTraining data frame memory usage is {:.2f} MB'.format(train_df.shape[0], train_df.shape[1], train_df.memory_usage().sum() / 1024**2))"
   ]
  },
  {
   "cell_type": "code",
   "execution_count": 5,
   "metadata": {},
   "outputs": [
    {
     "name": "stdout",
     "output_type": "stream",
     "text": [
      "There are 3263 rows and 4 columns in testing data frame\n",
      "Testing data frame memory usage is 0.10 MB\n"
     ]
    }
   ],
   "source": [
    "print('There are {} rows and {} columns in testing data frame\\nTesting data frame memory usage is {:.2f} MB'.format(test_df.shape[0], test_df.shape[1], test_df.memory_usage().sum() / 1024**2))"
   ]
  },
  {
   "cell_type": "code",
   "execution_count": 6,
   "metadata": {},
   "outputs": [
    {
     "data": {
      "text/html": [
       "<div>\n",
       "<style scoped>\n",
       "    .dataframe tbody tr th:only-of-type {\n",
       "        vertical-align: middle;\n",
       "    }\n",
       "\n",
       "    .dataframe tbody tr th {\n",
       "        vertical-align: top;\n",
       "    }\n",
       "\n",
       "    .dataframe thead th {\n",
       "        text-align: right;\n",
       "    }\n",
       "</style>\n",
       "<table border=\"1\" class=\"dataframe\">\n",
       "  <thead>\n",
       "    <tr style=\"text-align: right;\">\n",
       "      <th></th>\n",
       "      <th>id</th>\n",
       "      <th>keyword</th>\n",
       "      <th>location</th>\n",
       "      <th>text</th>\n",
       "      <th>target</th>\n",
       "    </tr>\n",
       "  </thead>\n",
       "  <tbody>\n",
       "    <tr>\n",
       "      <th>0</th>\n",
       "      <td>1</td>\n",
       "      <td>NaN</td>\n",
       "      <td>NaN</td>\n",
       "      <td>Our Deeds are the Reason of this #earthquake M...</td>\n",
       "      <td>1</td>\n",
       "    </tr>\n",
       "    <tr>\n",
       "      <th>1</th>\n",
       "      <td>4</td>\n",
       "      <td>NaN</td>\n",
       "      <td>NaN</td>\n",
       "      <td>Forest fire near La Ronge Sask. Canada</td>\n",
       "      <td>1</td>\n",
       "    </tr>\n",
       "    <tr>\n",
       "      <th>2</th>\n",
       "      <td>5</td>\n",
       "      <td>NaN</td>\n",
       "      <td>NaN</td>\n",
       "      <td>All residents asked to 'shelter in place' are ...</td>\n",
       "      <td>1</td>\n",
       "    </tr>\n",
       "    <tr>\n",
       "      <th>3</th>\n",
       "      <td>6</td>\n",
       "      <td>NaN</td>\n",
       "      <td>NaN</td>\n",
       "      <td>13,000 people receive #wildfires evacuation or...</td>\n",
       "      <td>1</td>\n",
       "    </tr>\n",
       "    <tr>\n",
       "      <th>4</th>\n",
       "      <td>7</td>\n",
       "      <td>NaN</td>\n",
       "      <td>NaN</td>\n",
       "      <td>Just got sent this photo from Ruby #Alaska as ...</td>\n",
       "      <td>1</td>\n",
       "    </tr>\n",
       "    <tr>\n",
       "      <th>5</th>\n",
       "      <td>8</td>\n",
       "      <td>NaN</td>\n",
       "      <td>NaN</td>\n",
       "      <td>#RockyFire Update =&gt; California Hwy. 20 closed...</td>\n",
       "      <td>1</td>\n",
       "    </tr>\n",
       "    <tr>\n",
       "      <th>6</th>\n",
       "      <td>10</td>\n",
       "      <td>NaN</td>\n",
       "      <td>NaN</td>\n",
       "      <td>#flood #disaster Heavy rain causes flash flood...</td>\n",
       "      <td>1</td>\n",
       "    </tr>\n",
       "    <tr>\n",
       "      <th>7</th>\n",
       "      <td>13</td>\n",
       "      <td>NaN</td>\n",
       "      <td>NaN</td>\n",
       "      <td>I'm on top of the hill and I can see a fire in...</td>\n",
       "      <td>1</td>\n",
       "    </tr>\n",
       "    <tr>\n",
       "      <th>8</th>\n",
       "      <td>14</td>\n",
       "      <td>NaN</td>\n",
       "      <td>NaN</td>\n",
       "      <td>There's an emergency evacuation happening now ...</td>\n",
       "      <td>1</td>\n",
       "    </tr>\n",
       "    <tr>\n",
       "      <th>9</th>\n",
       "      <td>15</td>\n",
       "      <td>NaN</td>\n",
       "      <td>NaN</td>\n",
       "      <td>I'm afraid that the tornado is coming to our a...</td>\n",
       "      <td>1</td>\n",
       "    </tr>\n",
       "  </tbody>\n",
       "</table>\n",
       "</div>"
      ],
      "text/plain": [
       "   id keyword location                                               text  \\\n",
       "0   1     NaN      NaN  Our Deeds are the Reason of this #earthquake M...   \n",
       "1   4     NaN      NaN             Forest fire near La Ronge Sask. Canada   \n",
       "2   5     NaN      NaN  All residents asked to 'shelter in place' are ...   \n",
       "3   6     NaN      NaN  13,000 people receive #wildfires evacuation or...   \n",
       "4   7     NaN      NaN  Just got sent this photo from Ruby #Alaska as ...   \n",
       "5   8     NaN      NaN  #RockyFire Update => California Hwy. 20 closed...   \n",
       "6  10     NaN      NaN  #flood #disaster Heavy rain causes flash flood...   \n",
       "7  13     NaN      NaN  I'm on top of the hill and I can see a fire in...   \n",
       "8  14     NaN      NaN  There's an emergency evacuation happening now ...   \n",
       "9  15     NaN      NaN  I'm afraid that the tornado is coming to our a...   \n",
       "\n",
       "   target  \n",
       "0       1  \n",
       "1       1  \n",
       "2       1  \n",
       "3       1  \n",
       "4       1  \n",
       "5       1  \n",
       "6       1  \n",
       "7       1  \n",
       "8       1  \n",
       "9       1  "
      ]
     },
     "execution_count": 6,
     "metadata": {},
     "output_type": "execute_result"
    }
   ],
   "source": [
    "train_df.head(10)"
   ]
  },
  {
   "cell_type": "code",
   "execution_count": 7,
   "metadata": {},
   "outputs": [],
   "source": [
    "count_vectorizer = feature_extraction.text.CountVectorizer()"
   ]
  },
  {
   "cell_type": "code",
   "execution_count": 8,
   "metadata": {},
   "outputs": [
    {
     "name": "stdout",
     "output_type": "stream",
     "text": [
      "(1, 54)\n",
      "[[0 0 0 1 1 1 0 0 0 0 0 0 1 1 0 0 0 0 1 0 0 0 0 0 0 1 0 0 0 1 0 0 0 0 1 0\n",
      "  0 0 0 1 0 0 0 0 0 0 0 0 0 1 1 0 1 0]]\n"
     ]
    }
   ],
   "source": [
    "# Getting counts for the first 5 tweets in the data\n",
    "example_train_vectors = count_vectorizer.fit_transform(train_df[\"text\"][0:5])\n",
    "#.todense() here because these vectors are \"sparse\" (only non-zero elements are kept to save space)\n",
    "print(example_train_vectors[0].todense().shape)\n",
    "print(example_train_vectors[0].todense())"
   ]
  },
  {
   "cell_type": "code",
   "execution_count": 9,
   "metadata": {},
   "outputs": [],
   "source": [
    "# Creating vectors for all of the tweets\n",
    "train_vectors = count_vectorizer.fit_transform(train_df[\"text\"])\n",
    "# note that we're NOT using .fit_transform() here. Using just .transform() makes sure\n",
    "# that the tokens in the train vectors are the only ones mapped to the test vectors - \n",
    "# i.e. that the train and test vectors use the same set of tokens.\n",
    "test_vectors = count_vectorizer.transform(test_df[\"text\"])"
   ]
  },
  {
   "cell_type": "code",
   "execution_count": 10,
   "metadata": {},
   "outputs": [],
   "source": [
    "clf = linear_model.RidgeClassifier()"
   ]
  },
  {
   "cell_type": "code",
   "execution_count": 11,
   "metadata": {},
   "outputs": [
    {
     "data": {
      "text/plain": [
       "array([0.59421842, 0.56498283, 0.64113893])"
      ]
     },
     "execution_count": 11,
     "metadata": {},
     "output_type": "execute_result"
    }
   ],
   "source": [
    "scores = model_selection.cross_val_score(clf, train_vectors, train_df[\"target\"], cv=3, scoring=\"f1\")\n",
    "scores"
   ]
  },
  {
   "cell_type": "code",
   "execution_count": 12,
   "metadata": {},
   "outputs": [
    {
     "data": {
      "text/plain": [
       "RidgeClassifier(alpha=1.0, class_weight=None, copy_X=True, fit_intercept=True,\n",
       "                max_iter=None, normalize=False, random_state=None,\n",
       "                solver='auto', tol=0.001)"
      ]
     },
     "execution_count": 12,
     "metadata": {},
     "output_type": "execute_result"
    }
   ],
   "source": [
    "clf.fit(train_vectors, train_df[\"target\"])"
   ]
  },
  {
   "cell_type": "code",
   "execution_count": 13,
   "metadata": {},
   "outputs": [],
   "source": [
    "sample_submission = pd.read_csv(\"/root/capsule/data/sample_submission.csv\")"
   ]
  },
  {
   "cell_type": "code",
   "execution_count": 14,
   "metadata": {},
   "outputs": [],
   "source": [
    "sample_submission[\"target\"] = clf.predict(test_vectors)"
   ]
  },
  {
   "cell_type": "code",
   "execution_count": 15,
   "metadata": {},
   "outputs": [
    {
     "data": {
      "text/html": [
       "<div>\n",
       "<style scoped>\n",
       "    .dataframe tbody tr th:only-of-type {\n",
       "        vertical-align: middle;\n",
       "    }\n",
       "\n",
       "    .dataframe tbody tr th {\n",
       "        vertical-align: top;\n",
       "    }\n",
       "\n",
       "    .dataframe thead th {\n",
       "        text-align: right;\n",
       "    }\n",
       "</style>\n",
       "<table border=\"1\" class=\"dataframe\">\n",
       "  <thead>\n",
       "    <tr style=\"text-align: right;\">\n",
       "      <th></th>\n",
       "      <th>id</th>\n",
       "      <th>target</th>\n",
       "    </tr>\n",
       "  </thead>\n",
       "  <tbody>\n",
       "    <tr>\n",
       "      <th>0</th>\n",
       "      <td>0</td>\n",
       "      <td>0</td>\n",
       "    </tr>\n",
       "    <tr>\n",
       "      <th>1</th>\n",
       "      <td>2</td>\n",
       "      <td>1</td>\n",
       "    </tr>\n",
       "    <tr>\n",
       "      <th>2</th>\n",
       "      <td>3</td>\n",
       "      <td>1</td>\n",
       "    </tr>\n",
       "    <tr>\n",
       "      <th>3</th>\n",
       "      <td>9</td>\n",
       "      <td>0</td>\n",
       "    </tr>\n",
       "    <tr>\n",
       "      <th>4</th>\n",
       "      <td>11</td>\n",
       "      <td>1</td>\n",
       "    </tr>\n",
       "  </tbody>\n",
       "</table>\n",
       "</div>"
      ],
      "text/plain": [
       "   id  target\n",
       "0   0       0\n",
       "1   2       1\n",
       "2   3       1\n",
       "3   9       0\n",
       "4  11       1"
      ]
     },
     "execution_count": 15,
     "metadata": {},
     "output_type": "execute_result"
    }
   ],
   "source": [
    "sample_submission.head()"
   ]
  },
  {
   "cell_type": "code",
   "execution_count": 16,
   "metadata": {},
   "outputs": [],
   "source": [
    "sample_submission.to_csv(\"submission.csv\", index=False)"
   ]
  },
  {
   "cell_type": "code",
   "execution_count": 85,
   "metadata": {},
   "outputs": [],
   "source": [
    "train_df['word_count'] = train_df['text'].apply(lambda x: len(str(x).split()))\n",
    "test_df['word_count'] = test_df['text'].apply(lambda x: len(str(x).split()))\n",
    "\n",
    "# unique_word_count\n",
    "train_df['unique_word_count'] = train_df['text'].apply(lambda x: len(set(str(x).split())))\n",
    "test_df['unique_word_count'] = test_df['text'].apply(lambda x: len(set(str(x).split())))\n",
    "\n",
    "# stop_word_count\n",
    "train_df['stop_word_count'] = train_df['text'].apply(lambda x: len([w for w in str(x).lower().split() if w in STOPWORDS]))\n",
    "test_df['stop_word_count'] = test_df['text'].apply(lambda x: len([w for w in str(x).lower().split() if w in STOPWORDS]))\n",
    "\n",
    "# url_count\n",
    "train_df['url_count'] = train_df['text'].apply(lambda x: len([w for w in str(x).lower().split() if 'http' in w or 'https' in w]))\n",
    "test_df['url_count'] = test_df['text'].apply(lambda x: len([w for w in str(x).lower().split() if 'http' in w or 'https' in w]))\n",
    "\n",
    "# mean_word_length\n",
    "train_df['mean_word_length'] = train_df['text'].apply(lambda x: np.mean([len(w) for w in str(x).split()]))\n",
    "test_df['mean_word_length'] = test_df['text'].apply(lambda x: np.mean([len(w) for w in str(x).split()]))\n",
    "\n",
    "# char_count\n",
    "train_df['char_count'] = train_df['text'].apply(lambda x: len(str(x)))\n",
    "test_df['char_count'] = test_df['text'].apply(lambda x: len(str(x)))\n",
    "\n",
    "# punctuation_count\n",
    "train_df['punctuation_count'] = train_df['text'].apply(lambda x: len([c for c in str(x) if c in string.punctuation]))\n",
    "test_df['punctuation_count'] = test_df['text'].apply(lambda x: len([c for c in str(x) if c in string.punctuation]))\n",
    "\n",
    "# hashtag_count\n",
    "train_df['hashtag_count'] = train_df['text'].apply(lambda x: len([c for c in str(x) if c == '#']))\n",
    "test_df['hashtag_count'] = test_df['text'].apply(lambda x: len([c for c in str(x) if c == '#']))\n",
    "\n",
    "# mention_count\n",
    "train_df['mention_count'] = train_df['text'].apply(lambda x: len([c for c in str(x) if c == '@']))\n",
    "test_df['mention_count'] = test_df['text'].apply(lambda x: len([c for c in str(x) if c == '@']))"
   ]
  },
  {
   "cell_type": "code",
   "execution_count": 86,
   "metadata": {},
   "outputs": [
    {
     "data": {
      "text/plain": [
       "(10876, 14)"
      ]
     },
     "execution_count": 86,
     "metadata": {},
     "output_type": "execute_result"
    }
   ],
   "source": [
    "# Concatenate pandas objects along a particular axis with optional set logic along the other axes.\n",
    "df=pd.concat([train_df,test_df])\n",
    "df.shape"
   ]
  },
  {
   "cell_type": "code",
   "execution_count": 19,
   "metadata": {},
   "outputs": [],
   "source": [
    "# Removing The URLs from the training and testing dataset\n",
    "def remove_URL(text):\n",
    "    url = re.compile(r'https?://\\S+|www\\.\\S+')\n",
    "    return url.sub(r'',text)"
   ]
  },
  {
   "cell_type": "code",
   "execution_count": 20,
   "metadata": {},
   "outputs": [],
   "source": [
    "df['text']=df['text'].apply(lambda x : remove_URL(x))"
   ]
  },
  {
   "cell_type": "code",
   "execution_count": 21,
   "metadata": {},
   "outputs": [],
   "source": [
    "# Removing HTML tags from the training and testing dataset\n",
    "def remove_html(text):\n",
    "    html=re.compile(r'<.*?>')\n",
    "    return html.sub(r'',text)"
   ]
  },
  {
   "cell_type": "code",
   "execution_count": 22,
   "metadata": {},
   "outputs": [],
   "source": [
    "df['text']=df['text'].apply(lambda x : remove_html(x))"
   ]
  },
  {
   "cell_type": "code",
   "execution_count": 23,
   "metadata": {},
   "outputs": [],
   "source": [
    "# Removing the emojis from the traing and testing dataset\n",
    "# Reference : https://gist.github.com/slowkow/7a7f61f495e3dbb7e3d767f97bd7304b\n",
    "def remove_emoji(text):\n",
    "    emoji_pattern = re.compile(\"[\"\n",
    "                           u\"\\U0001F600-\\U0001F64F\"  # emoticons\n",
    "                           u\"\\U0001F300-\\U0001F5FF\"  # symbols & pictographs\n",
    "                           u\"\\U0001F680-\\U0001F6FF\"  # transport & map symbols\n",
    "                           u\"\\U0001F1E0-\\U0001F1FF\"  # flags (iOS)\n",
    "                           u\"\\U00002702-\\U000027B0\"\n",
    "                           u\"\\U000024C2-\\U0001F251\"\n",
    "                           \"]+\", flags=re.UNICODE)\n",
    "    return emoji_pattern.sub(r'', text)"
   ]
  },
  {
   "cell_type": "code",
   "execution_count": 24,
   "metadata": {},
   "outputs": [],
   "source": [
    "df['text']=df['text'].apply(lambda x: remove_emoji(x))"
   ]
  },
  {
   "cell_type": "code",
   "execution_count": 25,
   "metadata": {},
   "outputs": [],
   "source": [
    "# Removing punstuations from training and testing dataset\n",
    "def remove_punct(text):\n",
    "    table=str.maketrans('','',string.punctuation)\n",
    "    return text.translate(table)"
   ]
  },
  {
   "cell_type": "code",
   "execution_count": 26,
   "metadata": {},
   "outputs": [],
   "source": [
    "df['text']=df['text'].apply(lambda x : remove_punct(x))"
   ]
  },
  {
   "cell_type": "code",
   "execution_count": 27,
   "metadata": {},
   "outputs": [],
   "source": [
    "# Using PySpellChecker correct the spelling of training and testing dataset\n",
    "from spellchecker import SpellChecker\n",
    "\n",
    "spell = SpellChecker()\n",
    "def correct_spellings(text):\n",
    "    corrected_text = []\n",
    "    misspelled_words = spell.unknown(text.split())\n",
    "    for word in text.split():\n",
    "        if word in misspelled_words:\n",
    "            corrected_text.append(spell.correction(word))\n",
    "        else:\n",
    "            corrected_text.append(word)\n",
    "    return \" \".join(corrected_text)"
   ]
  },
  {
   "cell_type": "code",
   "execution_count": 28,
   "metadata": {},
   "outputs": [],
   "source": [
    "df['text']=df['text'].apply(lambda x : correct_spellings(x))"
   ]
  },
  {
   "cell_type": "code",
   "execution_count": 30,
   "metadata": {},
   "outputs": [
    {
     "name": "stdout",
     "output_type": "stream",
     "text": [
      "Collecting nltk\n",
      "\u001b[?25l  Downloading https://files.pythonhosted.org/packages/92/75/ce35194d8e3022203cca0d2f896dbb88689f9b3fce8e9f9cff942913519d/nltk-3.5.zip (1.4MB)\n",
      "\u001b[K     |████████████████████████████████| 1.4MB 16.0MB/s eta 0:00:01\n",
      "\u001b[?25hCollecting click (from nltk)\n",
      "\u001b[?25l  Downloading https://files.pythonhosted.org/packages/dd/c0/4d8f43a9b16e289f36478422031b8a63b54b6ac3b1ba605d602f10dd54d6/click-7.1.1-py2.py3-none-any.whl (82kB)\n",
      "\u001b[K     |████████████████████████████████| 92kB 32.2MB/s eta 0:00:01\n",
      "\u001b[?25hRequirement already satisfied: joblib in /opt/conda/lib/python3.7/site-packages (from nltk) (0.14.1)\n",
      "Requirement already satisfied: regex in /opt/conda/lib/python3.7/site-packages (from nltk) (2020.4.4)\n",
      "Requirement already satisfied: tqdm in /opt/conda/lib/python3.7/site-packages (from nltk) (4.45.0)\n",
      "Building wheels for collected packages: nltk\n",
      "  Building wheel for nltk (setup.py) ... \u001b[?25ldone\n",
      "\u001b[?25h  Stored in directory: /root/.cache/pip/wheels/ae/8c/3f/b1fe0ba04555b08b57ab52ab7f86023639a526d8bc8d384306\n",
      "Successfully built nltk\n",
      "Installing collected packages: click, nltk\n",
      "Successfully installed click-7.1.1 nltk-3.5\n"
     ]
    }
   ],
   "source": [
    "!pip install nltk"
   ]
  },
  {
   "cell_type": "code",
   "execution_count": 67,
   "metadata": {},
   "outputs": [],
   "source": [
    "from nltk.tokenize import word_tokenize\n",
    "from tqdm import tqdm\n",
    "from nltk.corpus import stopwords\n",
    "import re\n",
    "import tensorflow as tf\n",
    "from tensorflow import keras"
   ]
  },
  {
   "cell_type": "code",
   "execution_count": 68,
   "metadata": {},
   "outputs": [
    {
     "name": "stderr",
     "output_type": "stream",
     "text": [
      "[nltk_data] Downloading package stopwords to /root/nltk_data...\n",
      "[nltk_data]   Package stopwords is already up-to-date!\n",
      "[nltk_data] Downloading package punkt to /root/nltk_data...\n",
      "[nltk_data]   Package punkt is already up-to-date!\n"
     ]
    }
   ],
   "source": [
    "from nltk.tokenize import word_tokenize\n",
    "from keras.preprocessing.text import Tokenizer\n",
    "from keras.preprocessing.sequence import pad_sequences\n",
    "from keras.models import Sequential\n",
    "from keras.layers import Embedding,LSTM,Dense,SpatialDropout1D\n",
    "from keras.initializers import Constant\n",
    "import nltk\n",
    "nltk.download('stopwords')\n",
    "nltk.download('punkt')\n",
    "stop=set(stopwords.words('english'))"
   ]
  },
  {
   "cell_type": "code",
   "execution_count": 87,
   "metadata": {},
   "outputs": [],
   "source": [
    "def create_corpus(df):\n",
    "    corpus=[]\n",
    "    for train_df in tqdm(df['text']):\n",
    "        words=[word.lower() for word in word_tokenize(train_df) if((word.isalpha()==1) & (word not in stop))]\n",
    "        corpus.append(words)\n",
    "    return corpus\n"
   ]
  },
  {
   "cell_type": "code",
   "execution_count": 88,
   "metadata": {},
   "outputs": [
    {
     "name": "stderr",
     "output_type": "stream",
     "text": [
      "100%|██████████| 10876/10876 [00:02<00:00, 4303.95it/s]\n"
     ]
    }
   ],
   "source": [
    "corpus=create_corpus(df)"
   ]
  },
  {
   "cell_type": "code",
   "execution_count": 89,
   "metadata": {},
   "outputs": [],
   "source": [
    "embedding_dict={}\n",
    "with open('/root/capsule/data/Glove/glove.twitter.27B.100d.txt','r') as f:\n",
    "    for line in f:\n",
    "        values=line.split()\n",
    "        word=values[0]\n",
    "        vectors=np.asarray(values[1:],'float32')\n",
    "        embedding_dict[word]=vectors\n",
    "f.close()"
   ]
  },
  {
   "cell_type": "code",
   "execution_count": 90,
   "metadata": {},
   "outputs": [],
   "source": [
    "MAX_LEN=50\n",
    "tokenizer_obj=Tokenizer()\n",
    "tokenizer_obj.fit_on_texts(corpus)\n",
    "sequences=tokenizer_obj.texts_to_sequences(corpus)\n",
    "\n",
    "train_pad=pad_sequences(sequences,maxlen=MAX_LEN,truncating='post',padding='post')"
   ]
  },
  {
   "cell_type": "code",
   "execution_count": 91,
   "metadata": {},
   "outputs": [
    {
     "name": "stdout",
     "output_type": "stream",
     "text": [
      "Number of unique words: 18736\n"
     ]
    }
   ],
   "source": [
    "word_index=tokenizer_obj.word_index\n",
    "print('Number of unique words:',len(word_index))"
   ]
  },
  {
   "cell_type": "code",
   "execution_count": 92,
   "metadata": {},
   "outputs": [
    {
     "name": "stderr",
     "output_type": "stream",
     "text": [
      "100%|██████████| 18736/18736 [00:00<00:00, 321290.65it/s]\n"
     ]
    }
   ],
   "source": [
    "num_words=len(word_index)+1\n",
    "embedding_matrix=np.zeros((num_words,100))\n",
    "\n",
    "for word,i in tqdm(word_index.items()):\n",
    "    if i > num_words:\n",
    "        continue\n",
    "    \n",
    "    emb_vec=embedding_dict.get(word)\n",
    "    if emb_vec is not None:\n",
    "        embedding_matrix[i]=emb_vec"
   ]
  },
  {
   "cell_type": "code",
   "execution_count": 93,
   "metadata": {},
   "outputs": [],
   "source": [
    "model=Sequential()\n",
    "\n",
    "embedding=Embedding(num_words,100,embeddings_initializer=Constant(embedding_matrix),\n",
    "                   input_length=MAX_LEN,trainable=False)\n",
    "\n",
    "model.add(embedding)\n",
    "model.add(SpatialDropout1D(0.2))\n",
    "model.add(LSTM(64, dropout=0.2, recurrent_dropout=0.2))\n",
    "model.add(Dense(1, activation='sigmoid'))\n",
    "\n",
    "\n",
    "optimzer=Adam(learning_rate=1e-5)\n",
    "\n",
    "model.compile(loss='binary_crossentropy',optimizer=optimzer,metrics=['accuracy'])"
   ]
  },
  {
   "cell_type": "code",
   "execution_count": 76,
   "metadata": {},
   "outputs": [
    {
     "name": "stdout",
     "output_type": "stream",
     "text": [
      "Model: \"sequential_2\"\n",
      "_________________________________________________________________\n",
      "Layer (type)                 Output Shape              Param #   \n",
      "=================================================================\n",
      "embedding_2 (Embedding)      (None, 50, 100)           1873700   \n",
      "_________________________________________________________________\n",
      "spatial_dropout1d_2 (Spatial (None, 50, 100)           0         \n",
      "_________________________________________________________________\n",
      "lstm_2 (LSTM)                (None, 64)                42240     \n",
      "_________________________________________________________________\n",
      "dense_2 (Dense)              (None, 1)                 65        \n",
      "=================================================================\n",
      "Total params: 1,916,005\n",
      "Trainable params: 42,305\n",
      "Non-trainable params: 1,873,700\n",
      "_________________________________________________________________\n"
     ]
    }
   ],
   "source": [
    "model.summary()"
   ]
  },
  {
   "cell_type": "code",
   "execution_count": 94,
   "metadata": {},
   "outputs": [],
   "source": [
    "train=train_pad[:train_df.shape[0]]\n",
    "test=train_pad[train_df.shape[0]:]"
   ]
  },
  {
   "cell_type": "code",
   "execution_count": 95,
   "metadata": {},
   "outputs": [],
   "source": [
    "from sklearn.model_selection import train_test_split"
   ]
  },
  {
   "cell_type": "code",
   "execution_count": 96,
   "metadata": {},
   "outputs": [
    {
     "name": "stdout",
     "output_type": "stream",
     "text": [
      "Shape of train (6471, 50)\n",
      "Shape of Validation  (1142, 50)\n"
     ]
    }
   ],
   "source": [
    "X_train,X_test,y_train,y_test=train_test_split(train,train_df['target'].values,test_size=0.15)\n",
    "print('Shape of train',X_train.shape)\n",
    "print(\"Shape of Validation \",X_test.shape)"
   ]
  },
  {
   "cell_type": "code",
   "execution_count": 80,
   "metadata": {},
   "outputs": [
    {
     "name": "stdout",
     "output_type": "stream",
     "text": [
      "Train on 6471 samples, validate on 1142 samples\n",
      "Epoch 1/15\n",
      " - 81s - loss: 0.6906 - accuracy: 0.5787 - val_loss: 0.6915 - val_accuracy: 0.5219\n",
      "Epoch 2/15\n",
      " - 80s - loss: 0.6579 - accuracy: 0.6192 - val_loss: 0.5980 - val_accuracy: 0.7294\n",
      "Epoch 3/15\n",
      " - 80s - loss: 0.5908 - accuracy: 0.7140 - val_loss: 0.5531 - val_accuracy: 0.7513\n",
      "Epoch 4/15\n",
      " - 80s - loss: 0.5691 - accuracy: 0.7246 - val_loss: 0.5371 - val_accuracy: 0.7618\n",
      "Epoch 5/15\n",
      " - 80s - loss: 0.5486 - accuracy: 0.7418 - val_loss: 0.5275 - val_accuracy: 0.7636\n",
      "Epoch 6/15\n",
      " - 80s - loss: 0.5502 - accuracy: 0.7444 - val_loss: 0.5148 - val_accuracy: 0.7706\n",
      "Epoch 7/15\n",
      " - 80s - loss: 0.5430 - accuracy: 0.7481 - val_loss: 0.5118 - val_accuracy: 0.7636\n",
      "Epoch 8/15\n",
      " - 80s - loss: 0.5415 - accuracy: 0.7506 - val_loss: 0.5080 - val_accuracy: 0.7627\n",
      "Epoch 9/15\n",
      " - 80s - loss: 0.5308 - accuracy: 0.7594 - val_loss: 0.5035 - val_accuracy: 0.7732\n",
      "Epoch 10/15\n",
      " - 80s - loss: 0.5324 - accuracy: 0.7633 - val_loss: 0.5036 - val_accuracy: 0.7697\n",
      "Epoch 11/15\n",
      " - 80s - loss: 0.5298 - accuracy: 0.7588 - val_loss: 0.5008 - val_accuracy: 0.7723\n",
      "Epoch 12/15\n",
      " - 80s - loss: 0.5262 - accuracy: 0.7636 - val_loss: 0.4944 - val_accuracy: 0.7837\n",
      "Epoch 13/15\n",
      " - 80s - loss: 0.5282 - accuracy: 0.7585 - val_loss: 0.4948 - val_accuracy: 0.7802\n",
      "Epoch 14/15\n",
      " - 80s - loss: 0.5193 - accuracy: 0.7716 - val_loss: 0.4909 - val_accuracy: 0.7916\n",
      "Epoch 15/15\n",
      " - 80s - loss: 0.5185 - accuracy: 0.7707 - val_loss: 0.4900 - val_accuracy: 0.7890\n"
     ]
    }
   ],
   "source": [
    "history=model.fit(X_train,y_train,batch_size=4,epochs=15,validation_data=(X_test,y_test),verbose=2)"
   ]
  },
  {
   "cell_type": "code",
   "execution_count": 81,
   "metadata": {},
   "outputs": [],
   "source": [
    "submission = pd.read_csv(\"/root/capsule/data/sample_submission.csv\")"
   ]
  },
  {
   "cell_type": "code",
   "execution_count": 83,
   "metadata": {},
   "outputs": [],
   "source": [
    "y_pre=model.predict(test)\n",
    "y_pre=np.round(y_pre).astype(int).reshape(3263)\n",
    "sub=pd.DataFrame({'id':submission['id'].values.tolist(),'target':y_pre})\n",
    "sub.to_csv('submission-GLoVe.csv',index=False)"
   ]
  },
  {
   "cell_type": "code",
   "execution_count": 97,
   "metadata": {},
   "outputs": [
    {
     "name": "stdout",
     "output_type": "stream",
     "text": [
      "# coding=utf-8\r\n",
      "# Copyright 2019 The TensorFlow Authors. All Rights Reserved.\r\n",
      "#\r\n",
      "# Licensed under the Apache License, Version 2.0 (the \"License\");\r\n",
      "# you may not use this file except in compliance with the License.\r\n",
      "# You may obtain a copy of the License at\r\n",
      "#\r\n",
      "#     http://www.apache.org/licenses/LICENSE-2.0\r\n",
      "#\r\n",
      "# Unless required by applicable law or agreed to in writing, software\r\n",
      "# distributed under the License is distributed on an \"AS IS\" BASIS,\r\n",
      "# WITHOUT WARRANTIES OR CONDITIONS OF ANY KIND, either express or implied.\r\n",
      "# See the License for the specific language governing permissions and\r\n",
      "# limitations under the License.\r\n",
      "# ==============================================================================\r\n",
      "\"\"\"Tokenization classes implementation.\r\n",
      "\r\n",
      "The file is forked from:\r\n",
      "https://github.com/google-research/bert/blob/master/tokenization.py.\r\n",
      "\"\"\"\r\n",
      "\r\n",
      "from __future__ import absolute_import\r\n",
      "from __future__ import division\r\n",
      "from __future__ import print_function\r\n",
      "\r\n",
      "import collections\r\n",
      "import re\r\n",
      "import unicodedata\r\n",
      "\r\n",
      "import six\r\n",
      "import tensorflow as tf\r\n",
      "\r\n",
      "import sentencepiece as spm\r\n",
      "\r\n",
      "SPIECE_UNDERLINE = \"▁\"\r\n",
      "\r\n",
      "\r\n",
      "def validate_case_matches_checkpoint(do_lower_case, init_checkpoint):\r\n",
      "  \"\"\"Checks whether the casing config is consistent with the checkpoint name.\"\"\"\r\n",
      "\r\n",
      "  # The casing has to be passed in by the user and there is no explicit check\r\n",
      "  # as to whether it matches the checkpoint. The casing information probably\r\n",
      "  # should have been stored in the bert_config.json file, but it's not, so\r\n",
      "  # we have to heuristically detect it to validate.\r\n",
      "\r\n",
      "  if not init_checkpoint:\r\n",
      "    return\r\n",
      "\r\n",
      "  m = re.match(\"^.*?([A-Za-z0-9_-]+)/bert_model.ckpt\", init_checkpoint)\r\n",
      "  if m is None:\r\n",
      "    return\r\n",
      "\r\n",
      "  model_name = m.group(1)\r\n",
      "\r\n",
      "  lower_models = [\r\n",
      "      \"uncased_L-24_H-1024_A-16\", \"uncased_L-12_H-768_A-12\",\r\n",
      "      \"multilingual_L-12_H-768_A-12\", \"chinese_L-12_H-768_A-12\"\r\n",
      "  ]\r\n",
      "\r\n",
      "  cased_models = [\r\n",
      "      \"cased_L-12_H-768_A-12\", \"cased_L-24_H-1024_A-16\",\r\n",
      "      \"multi_cased_L-12_H-768_A-12\"\r\n",
      "  ]\r\n",
      "\r\n",
      "  is_bad_config = False\r\n",
      "  if model_name in lower_models and not do_lower_case:\r\n",
      "    is_bad_config = True\r\n",
      "    actual_flag = \"False\"\r\n",
      "    case_name = \"lowercased\"\r\n",
      "    opposite_flag = \"True\"\r\n",
      "\r\n",
      "  if model_name in cased_models and do_lower_case:\r\n",
      "    is_bad_config = True\r\n",
      "    actual_flag = \"True\"\r\n",
      "    case_name = \"cased\"\r\n",
      "    opposite_flag = \"False\"\r\n",
      "\r\n",
      "  if is_bad_config:\r\n",
      "    raise ValueError(\r\n",
      "        \"You passed in `--do_lower_case=%s` with `--init_checkpoint=%s`. \"\r\n",
      "        \"However, `%s` seems to be a %s model, so you \"\r\n",
      "        \"should pass in `--do_lower_case=%s` so that the fine-tuning matches \"\r\n",
      "        \"how the model was pre-training. If this error is wrong, please \"\r\n",
      "        \"just comment out this check.\" %\r\n",
      "        (actual_flag, init_checkpoint, model_name, case_name, opposite_flag))\r\n",
      "\r\n",
      "\r\n",
      "def convert_to_unicode(text):\r\n",
      "  \"\"\"Converts `text` to Unicode (if it's not already), assuming utf-8 input.\"\"\"\r\n",
      "  if six.PY3:\r\n",
      "    if isinstance(text, str):\r\n",
      "      return text\r\n",
      "    elif isinstance(text, bytes):\r\n",
      "      return text.decode(\"utf-8\", \"ignore\")\r\n",
      "    else:\r\n",
      "      raise ValueError(\"Unsupported string type: %s\" % (type(text)))\r\n",
      "  elif six.PY2:\r\n",
      "    if isinstance(text, str):\r\n",
      "      return text.decode(\"utf-8\", \"ignore\")\r\n",
      "    elif isinstance(text, unicode):\r\n",
      "      return text\r\n",
      "    else:\r\n",
      "      raise ValueError(\"Unsupported string type: %s\" % (type(text)))\r\n",
      "  else:\r\n",
      "    raise ValueError(\"Not running on Python2 or Python 3?\")\r\n",
      "\r\n",
      "\r\n",
      "def printable_text(text):\r\n",
      "  \"\"\"Returns text encoded in a way suitable for print or `tf.logging`.\"\"\"\r\n",
      "\r\n",
      "  # These functions want `str` for both Python2 and Python3, but in one case\r\n",
      "  # it's a Unicode string and in the other it's a byte string.\r\n",
      "  if six.PY3:\r\n",
      "    if isinstance(text, str):\r\n",
      "      return text\r\n",
      "    elif isinstance(text, bytes):\r\n",
      "      return text.decode(\"utf-8\", \"ignore\")\r\n",
      "    else:\r\n",
      "      raise ValueError(\"Unsupported string type: %s\" % (type(text)))\r\n",
      "  elif six.PY2:\r\n",
      "    if isinstance(text, str):\r\n",
      "      return text\r\n",
      "    elif isinstance(text, unicode):\r\n",
      "      return text.encode(\"utf-8\")\r\n",
      "    else:\r\n",
      "      raise ValueError(\"Unsupported string type: %s\" % (type(text)))\r\n",
      "  else:\r\n",
      "    raise ValueError(\"Not running on Python2 or Python 3?\")\r\n",
      "\r\n",
      "\r\n",
      "def load_vocab(vocab_file):\r\n",
      "  \"\"\"Loads a vocabulary file into a dictionary.\"\"\"\r\n",
      "  vocab = collections.OrderedDict()\r\n",
      "  index = 0\r\n",
      "  with tf.io.gfile.GFile(vocab_file, \"r\") as reader:\r\n",
      "    while True:\r\n",
      "      token = convert_to_unicode(reader.readline())\r\n",
      "      if not token:\r\n",
      "        break\r\n",
      "      token = token.strip()\r\n",
      "      vocab[token] = index\r\n",
      "      index += 1\r\n",
      "  return vocab\r\n",
      "\r\n",
      "\r\n",
      "def convert_by_vocab(vocab, items):\r\n",
      "  \"\"\"Converts a sequence of [tokens|ids] using the vocab.\"\"\"\r\n",
      "  output = []\r\n",
      "  for item in items:\r\n",
      "    output.append(vocab[item])\r\n",
      "  return output\r\n",
      "\r\n",
      "\r\n",
      "def convert_tokens_to_ids(vocab, tokens):\r\n",
      "  return convert_by_vocab(vocab, tokens)\r\n",
      "\r\n",
      "\r\n",
      "def convert_ids_to_tokens(inv_vocab, ids):\r\n",
      "  return convert_by_vocab(inv_vocab, ids)\r\n",
      "\r\n",
      "\r\n",
      "def whitespace_tokenize(text):\r\n",
      "  \"\"\"Runs basic whitespace cleaning and splitting on a piece of text.\"\"\"\r\n",
      "  text = text.strip()\r\n",
      "  if not text:\r\n",
      "    return []\r\n",
      "  tokens = text.split()\r\n",
      "  return tokens\r\n",
      "\r\n",
      "\r\n",
      "class FullTokenizer(object):\r\n",
      "  \"\"\"Runs end-to-end tokenziation.\"\"\"\r\n",
      "\r\n",
      "  def __init__(self, vocab_file, do_lower_case=True, split_on_punc=True):\r\n",
      "    self.vocab = load_vocab(vocab_file)\r\n",
      "    self.inv_vocab = {v: k for k, v in self.vocab.items()}\r\n",
      "    self.basic_tokenizer = BasicTokenizer(\r\n",
      "        do_lower_case=do_lower_case, split_on_punc=split_on_punc)\r\n",
      "    self.wordpiece_tokenizer = WordpieceTokenizer(vocab=self.vocab)\r\n",
      "\r\n",
      "  def tokenize(self, text):\r\n",
      "    split_tokens = []\r\n",
      "    for token in self.basic_tokenizer.tokenize(text):\r\n",
      "      for sub_token in self.wordpiece_tokenizer.tokenize(token):\r\n",
      "        split_tokens.append(sub_token)\r\n",
      "\r\n",
      "    return split_tokens\r\n",
      "\r\n",
      "  def convert_tokens_to_ids(self, tokens):\r\n",
      "    return convert_by_vocab(self.vocab, tokens)\r\n",
      "\r\n",
      "  def convert_ids_to_tokens(self, ids):\r\n",
      "    return convert_by_vocab(self.inv_vocab, ids)\r\n",
      "\r\n",
      "\r\n",
      "class BasicTokenizer(object):\r\n",
      "  \"\"\"Runs basic tokenization (punctuation splitting, lower casing, etc.).\"\"\"\r\n",
      "\r\n",
      "  def __init__(self, do_lower_case=True, split_on_punc=True):\r\n",
      "    \"\"\"Constructs a BasicTokenizer.\r\n",
      "\r\n",
      "    Args:\r\n",
      "      do_lower_case: Whether to lower case the input.\r\n",
      "      split_on_punc: Whether to apply split on punctuations. By default BERT\r\n",
      "        starts a new token for punctuations. This makes detokenization difficult\r\n",
      "        for tasks like seq2seq decoding.\r\n",
      "    \"\"\"\r\n",
      "    self.do_lower_case = do_lower_case\r\n",
      "    self.split_on_punc = split_on_punc\r\n",
      "\r\n",
      "  def tokenize(self, text):\r\n",
      "    \"\"\"Tokenizes a piece of text.\"\"\"\r\n",
      "    text = convert_to_unicode(text)\r\n",
      "    text = self._clean_text(text)\r\n",
      "\r\n",
      "    # This was added on November 1st, 2018 for the multilingual and Chinese\r\n",
      "    # models. This is also applied to the English models now, but it doesn't\r\n",
      "    # matter since the English models were not trained on any Chinese data\r\n",
      "    # and generally don't have any Chinese data in them (there are Chinese\r\n",
      "    # characters in the vocabulary because Wikipedia does have some Chinese\r\n",
      "    # words in the English Wikipedia.).\r\n",
      "    text = self._tokenize_chinese_chars(text)\r\n",
      "\r\n",
      "    orig_tokens = whitespace_tokenize(text)\r\n",
      "    split_tokens = []\r\n",
      "    for token in orig_tokens:\r\n",
      "      if self.do_lower_case:\r\n",
      "        token = token.lower()\r\n",
      "        token = self._run_strip_accents(token)\r\n",
      "      if self.split_on_punc:\r\n",
      "        split_tokens.extend(self._run_split_on_punc(token))\r\n",
      "      else:\r\n",
      "        split_tokens.append(token)\r\n",
      "\r\n",
      "    output_tokens = whitespace_tokenize(\" \".join(split_tokens))\r\n",
      "    return output_tokens\r\n",
      "\r\n",
      "  def _run_strip_accents(self, text):\r\n",
      "    \"\"\"Strips accents from a piece of text.\"\"\"\r\n",
      "    text = unicodedata.normalize(\"NFD\", text)\r\n",
      "    output = []\r\n",
      "    for char in text:\r\n",
      "      cat = unicodedata.category(char)\r\n",
      "      if cat == \"Mn\":\r\n",
      "        continue\r\n",
      "      output.append(char)\r\n",
      "    return \"\".join(output)\r\n",
      "\r\n",
      "  def _run_split_on_punc(self, text):\r\n",
      "    \"\"\"Splits punctuation on a piece of text.\"\"\"\r\n",
      "    chars = list(text)\r\n",
      "    i = 0\r\n",
      "    start_new_word = True\r\n",
      "    output = []\r\n",
      "    while i < len(chars):\r\n",
      "      char = chars[i]\r\n",
      "      if _is_punctuation(char):\r\n",
      "        output.append([char])\r\n",
      "        start_new_word = True\r\n",
      "      else:\r\n",
      "        if start_new_word:\r\n",
      "          output.append([])\r\n",
      "        start_new_word = False\r\n",
      "        output[-1].append(char)\r\n",
      "      i += 1\r\n",
      "\r\n",
      "    return [\"\".join(x) for x in output]\r\n",
      "\r\n",
      "  def _tokenize_chinese_chars(self, text):\r\n",
      "    \"\"\"Adds whitespace around any CJK character.\"\"\"\r\n",
      "    output = []\r\n",
      "    for char in text:\r\n",
      "      cp = ord(char)\r\n",
      "      if self._is_chinese_char(cp):\r\n",
      "        output.append(\" \")\r\n",
      "        output.append(char)\r\n",
      "        output.append(\" \")\r\n",
      "      else:\r\n",
      "        output.append(char)\r\n",
      "    return \"\".join(output)\r\n",
      "\r\n",
      "  def _is_chinese_char(self, cp):\r\n",
      "    \"\"\"Checks whether CP is the codepoint of a CJK character.\"\"\"\r\n",
      "    # This defines a \"chinese character\" as anything in the CJK Unicode block:\r\n",
      "    #   https://en.wikipedia.org/wiki/CJK_Unified_Ideographs_(Unicode_block)\r\n",
      "    #\r\n",
      "    # Note that the CJK Unicode block is NOT all Japanese and Korean characters,\r\n",
      "    # despite its name. The modern Korean Hangul alphabet is a different block,\r\n",
      "    # as is Japanese Hiragana and Katakana. Those alphabets are used to write\r\n",
      "    # space-separated words, so they are not treated specially and handled\r\n",
      "    # like the all of the other languages.\r\n",
      "    if ((cp >= 0x4E00 and cp <= 0x9FFF) or  #\r\n",
      "        (cp >= 0x3400 and cp <= 0x4DBF) or  #\r\n",
      "        (cp >= 0x20000 and cp <= 0x2A6DF) or  #\r\n",
      "        (cp >= 0x2A700 and cp <= 0x2B73F) or  #\r\n",
      "        (cp >= 0x2B740 and cp <= 0x2B81F) or  #\r\n",
      "        (cp >= 0x2B820 and cp <= 0x2CEAF) or\r\n",
      "        (cp >= 0xF900 and cp <= 0xFAFF) or  #\r\n",
      "        (cp >= 0x2F800 and cp <= 0x2FA1F)):  #\r\n",
      "      return True\r\n",
      "\r\n",
      "    return False\r\n",
      "\r\n",
      "  def _clean_text(self, text):\r\n",
      "    \"\"\"Performs invalid character removal and whitespace cleanup on text.\"\"\"\r\n",
      "    output = []\r\n",
      "    for char in text:\r\n",
      "      cp = ord(char)\r\n",
      "      if cp == 0 or cp == 0xfffd or _is_control(char):\r\n",
      "        continue\r\n",
      "      if _is_whitespace(char):\r\n",
      "        output.append(\" \")\r\n",
      "      else:\r\n",
      "        output.append(char)\r\n",
      "    return \"\".join(output)\r\n",
      "\r\n",
      "\r\n",
      "class WordpieceTokenizer(object):\r\n",
      "  \"\"\"Runs WordPiece tokenziation.\"\"\"\r\n",
      "\r\n",
      "  def __init__(self, vocab, unk_token=\"[UNK]\", max_input_chars_per_word=200):\r\n",
      "    self.vocab = vocab\r\n",
      "    self.unk_token = unk_token\r\n",
      "    self.max_input_chars_per_word = max_input_chars_per_word\r\n",
      "\r\n",
      "  def tokenize(self, text):\r\n",
      "    \"\"\"Tokenizes a piece of text into its word pieces.\r\n",
      "\r\n",
      "    This uses a greedy longest-match-first algorithm to perform tokenization\r\n",
      "    using the given vocabulary.\r\n",
      "\r\n",
      "    For example:\r\n",
      "      input = \"unaffable\"\r\n",
      "      output = [\"un\", \"##aff\", \"##able\"]\r\n",
      "\r\n",
      "    Args:\r\n",
      "      text: A single token or whitespace separated tokens. This should have\r\n",
      "        already been passed through `BasicTokenizer.\r\n",
      "\r\n",
      "    Returns:\r\n",
      "      A list of wordpiece tokens.\r\n",
      "    \"\"\"\r\n",
      "\r\n",
      "    text = convert_to_unicode(text)\r\n",
      "\r\n",
      "    output_tokens = []\r\n",
      "    for token in whitespace_tokenize(text):\r\n",
      "      chars = list(token)\r\n",
      "      if len(chars) > self.max_input_chars_per_word:\r\n",
      "        output_tokens.append(self.unk_token)\r\n",
      "        continue\r\n",
      "\r\n",
      "      is_bad = False\r\n",
      "      start = 0\r\n",
      "      sub_tokens = []\r\n",
      "      while start < len(chars):\r\n",
      "        end = len(chars)\r\n",
      "        cur_substr = None\r\n",
      "        while start < end:\r\n",
      "          substr = \"\".join(chars[start:end])\r\n",
      "          if start > 0:\r\n",
      "            substr = \"##\" + substr\r\n",
      "          if substr in self.vocab:\r\n",
      "            cur_substr = substr\r\n",
      "            break\r\n",
      "          end -= 1\r\n",
      "        if cur_substr is None:\r\n",
      "          is_bad = True\r\n",
      "          break\r\n",
      "        sub_tokens.append(cur_substr)\r\n",
      "        start = end\r\n",
      "\r\n",
      "      if is_bad:\r\n",
      "        output_tokens.append(self.unk_token)\r\n",
      "      else:\r\n",
      "        output_tokens.extend(sub_tokens)\r\n",
      "    return output_tokens\r\n",
      "\r\n",
      "\r\n",
      "def _is_whitespace(char):\r\n",
      "  \"\"\"Checks whether `chars` is a whitespace character.\"\"\"\r\n",
      "  # \\t, \\n, and \\r are technically control characters but we treat them\r\n",
      "  # as whitespace since they are generally considered as such.\r\n",
      "  if char == \" \" or char == \"\\t\" or char == \"\\n\" or char == \"\\r\":\r\n",
      "    return True\r\n",
      "  cat = unicodedata.category(char)\r\n",
      "  if cat == \"Zs\":\r\n",
      "    return True\r\n",
      "  return False\r\n",
      "\r\n",
      "\r\n",
      "def _is_control(char):\r\n",
      "  \"\"\"Checks whether `chars` is a control character.\"\"\"\r\n",
      "  # These are technically control characters but we count them as whitespace\r\n",
      "  # characters.\r\n",
      "  if char == \"\\t\" or char == \"\\n\" or char == \"\\r\":\r\n",
      "    return False\r\n",
      "  cat = unicodedata.category(char)\r\n",
      "  if cat in (\"Cc\", \"Cf\"):\r\n",
      "    return True\r\n",
      "  return False\r\n",
      "\r\n",
      "\r\n",
      "def _is_punctuation(char):\r\n",
      "  \"\"\"Checks whether `chars` is a punctuation character.\"\"\"\r\n",
      "  cp = ord(char)\r\n",
      "  # We treat all non-letter/number ASCII as punctuation.\r\n",
      "  # Characters such as \"^\", \"$\", and \"`\" are not in the Unicode\r\n",
      "  # Punctuation class but we treat them as punctuation anyways, for\r\n",
      "  # consistency.\r\n",
      "  if ((cp >= 33 and cp <= 47) or (cp >= 58 and cp <= 64) or\r\n",
      "      (cp >= 91 and cp <= 96) or (cp >= 123 and cp <= 126)):\r\n",
      "    return True\r\n",
      "  cat = unicodedata.category(char)\r\n",
      "  if cat.startswith(\"P\"):\r\n",
      "    return True\r\n",
      "  return False\r\n",
      "\r\n",
      "\r\n",
      "def preprocess_text(inputs, remove_space=True, lower=False):\r\n",
      "  \"\"\"Preprocesses data by removing extra space and normalize data.\r\n",
      "\r\n",
      "  This method is used together with sentence piece tokenizer and is forked from:\r\n",
      "  https://github.com/google-research/google-research/blob/master/albert/tokenization.py\r\n",
      "\r\n",
      "  Args:\r\n",
      "    inputs: The input text.\r\n",
      "    remove_space: Whether to remove the extra space.\r\n",
      "    lower: Whether to lowercase the text.\r\n",
      "\r\n",
      "  Returns:\r\n",
      "    The preprocessed text.\r\n",
      "\r\n",
      "  \"\"\"\r\n",
      "  outputs = inputs\r\n",
      "  if remove_space:\r\n",
      "    outputs = \" \".join(inputs.strip().split())\r\n",
      "\r\n",
      "  if six.PY2 and isinstance(outputs, str):\r\n",
      "    try:\r\n",
      "      outputs = six.ensure_text(outputs, \"utf-8\")\r\n",
      "    except UnicodeDecodeError:\r\n",
      "      outputs = six.ensure_text(outputs, \"latin-1\")\r\n",
      "\r\n",
      "  outputs = unicodedata.normalize(\"NFKD\", outputs)\r\n",
      "  outputs = \"\".join([c for c in outputs if not unicodedata.combining(c)])\r\n",
      "  if lower:\r\n",
      "    outputs = outputs.lower()\r\n",
      "\r\n",
      "  return outputs\r\n",
      "\r\n",
      "\r\n",
      "def encode_pieces(sp_model, text, sample=False):\r\n",
      "  \"\"\"Segements text into pieces.\r\n",
      "\r\n",
      "  This method is used together with sentence piece tokenizer and is forked from:\r\n",
      "  https://github.com/google-research/google-research/blob/master/albert/tokenization.py\r\n",
      "\r\n",
      "\r\n",
      "  Args:\r\n",
      "    sp_model: A spm.SentencePieceProcessor object.\r\n",
      "    text: The input text to be segemented.\r\n",
      "    sample: Whether to randomly sample a segmentation output or return a\r\n",
      "      deterministic one.\r\n",
      "\r\n",
      "  Returns:\r\n",
      "    A list of token pieces.\r\n",
      "  \"\"\"\r\n",
      "  if six.PY2 and isinstance(text, six.text_type):\r\n",
      "    text = six.ensure_binary(text, \"utf-8\")\r\n",
      "\r\n",
      "  if not sample:\r\n",
      "    pieces = sp_model.EncodeAsPieces(text)\r\n",
      "  else:\r\n",
      "    pieces = sp_model.SampleEncodeAsPieces(text, 64, 0.1)\r\n",
      "  new_pieces = []\r\n",
      "  for piece in pieces:\r\n",
      "    piece = printable_text(piece)\r\n",
      "    if len(piece) > 1 and piece[-1] == \",\" and piece[-2].isdigit():\r\n",
      "      cur_pieces = sp_model.EncodeAsPieces(piece[:-1].replace(\r\n",
      "          SPIECE_UNDERLINE, \"\"))\r\n",
      "      if piece[0] != SPIECE_UNDERLINE and cur_pieces[0][0] == SPIECE_UNDERLINE:\r\n",
      "        if len(cur_pieces[0]) == 1:\r\n",
      "          cur_pieces = cur_pieces[1:]\r\n",
      "        else:\r\n",
      "          cur_pieces[0] = cur_pieces[0][1:]\r\n",
      "      cur_pieces.append(piece[-1])\r\n",
      "      new_pieces.extend(cur_pieces)\r\n",
      "    else:\r\n",
      "      new_pieces.append(piece)\r\n",
      "\r\n",
      "  return new_pieces\r\n",
      "\r\n",
      "\r\n",
      "def encode_ids(sp_model, text, sample=False):\r\n",
      "  \"\"\"Segments text and return token ids.\r\n",
      "\r\n",
      "  This method is used together with sentence piece tokenizer and is forked from:\r\n",
      "  https://github.com/google-research/google-research/blob/master/albert/tokenization.py\r\n",
      "\r\n",
      "  Args:\r\n",
      "    sp_model: A spm.SentencePieceProcessor object.\r\n",
      "    text: The input text to be segemented.\r\n",
      "    sample: Whether to randomly sample a segmentation output or return a\r\n",
      "      deterministic one.\r\n",
      "\r\n",
      "  Returns:\r\n",
      "    A list of token ids.\r\n",
      "  \"\"\"\r\n",
      "  pieces = encode_pieces(sp_model, text, sample=sample)\r\n",
      "  ids = [sp_model.PieceToId(piece) for piece in pieces]\r\n",
      "  return ids\r\n",
      "\r\n",
      "\r\n",
      "class FullSentencePieceTokenizer(object):\r\n",
      "  \"\"\"Runs end-to-end sentence piece tokenization.\r\n",
      "\r\n",
      "  The interface of this class is intended to keep the same as above\r\n",
      "  `FullTokenizer` class for easier usage.\r\n",
      "  \"\"\"\r\n",
      "\r\n",
      "  def __init__(self, sp_model_file):\r\n",
      "    \"\"\"Inits FullSentencePieceTokenizer.\r\n",
      "\r\n",
      "    Args:\r\n",
      "      sp_model_file: The path to the sentence piece model file.\r\n",
      "    \"\"\"\r\n",
      "    self.sp_model = spm.SentencePieceProcessor()\r\n",
      "    self.sp_model.Load(sp_model_file)\r\n",
      "    self.vocab = {\r\n",
      "        self.sp_model.IdToPiece(i): i\r\n",
      "        for i in six.moves.range(self.sp_model.GetPieceSize())\r\n",
      "    }\r\n",
      "\r\n",
      "  def tokenize(self, text):\r\n",
      "    \"\"\"Tokenizes text into pieces.\"\"\"\r\n",
      "    return encode_pieces(self.sp_model, text)\r\n",
      "\r\n",
      "  def convert_tokens_to_ids(self, tokens):\r\n",
      "    \"\"\"Converts a list of tokens to a list of ids.\"\"\"\r\n",
      "    return [self.sp_model.PieceToId(printable_text(token)) for token in tokens]\r\n",
      "\r\n",
      "  def convert_ids_to_tokens(self, ids):\r\n",
      "    \"\"\"Converts a list of ids ot a list of tokens.\"\"\"\r\n",
      "    return [self.sp_model.IdToPiece(id_) for id_ in ids]\r\n"
     ]
    }
   ],
   "source": [
    "!curl https://raw.githubusercontent.com/tensorflow/models/master/official/nlp/bert/tokenization.py"
   ]
  },
  {
   "cell_type": "code",
   "execution_count": 98,
   "metadata": {},
   "outputs": [],
   "source": [
    "import numpy as np\n",
    "import pandas as pd\n",
    "from tensorflow.keras.layers import Dense, Input\n",
    "from tensorflow.keras.optimizers import Adam\n",
    "from tensorflow.keras.models import Model\n",
    "from tensorflow.keras.callbacks import ModelCheckpoint\n",
    "import tensorflow_hub as hub\n",
    "import tokenization"
   ]
  },
  {
   "cell_type": "code",
   "execution_count": 99,
   "metadata": {},
   "outputs": [],
   "source": [
    "def bert_encode(texts, tokenizer, max_len=512):\n",
    "    all_tokens = []\n",
    "    all_masks = []\n",
    "    all_segments = []\n",
    "    \n",
    "    for text in texts:\n",
    "        text = tokenizer.tokenize(text)\n",
    "            \n",
    "        text = text[:max_len-2]\n",
    "        input_sequence = [\"[CLS]\"] + text + [\"[SEP]\"]\n",
    "        pad_len = max_len - len(input_sequence)\n",
    "        \n",
    "        tokens = tokenizer.convert_tokens_to_ids(input_sequence)\n",
    "        tokens += [0] * pad_len\n",
    "        pad_masks = [1] * len(input_sequence) + [0] * pad_len\n",
    "        segment_ids = [0] * max_len\n",
    "        \n",
    "        all_tokens.append(tokens)\n",
    "        all_masks.append(pad_masks)\n",
    "        all_segments.append(segment_ids)\n",
    "    \n",
    "    return np.array(all_tokens), np.array(all_masks), np.array(all_segments)"
   ]
  },
  {
   "cell_type": "code",
   "execution_count": 100,
   "metadata": {},
   "outputs": [],
   "source": [
    "def build_model(bert_layer, max_len=512):\n",
    "    input_word_ids = Input(shape=(max_len,), dtype=tf.int32, name=\"input_word_ids\")\n",
    "    input_mask = Input(shape=(max_len,), dtype=tf.int32, name=\"input_mask\")\n",
    "    segment_ids = Input(shape=(max_len,), dtype=tf.int32, name=\"segment_ids\")\n",
    "\n",
    "    _, sequence_output = bert_layer([input_word_ids, input_mask, segment_ids])\n",
    "    clf_output = sequence_output[:, 0, :]\n",
    "    out = Dense(1, activation='sigmoid')(clf_output)\n",
    "    \n",
    "    model = Model(inputs=[input_word_ids, input_mask, segment_ids], outputs=out)\n",
    "    model.compile(Adam(lr=2e-6), loss='binary_crossentropy', metrics=['accuracy'])\n",
    "    \n",
    "    return model"
   ]
  },
  {
   "cell_type": "code",
   "execution_count": 101,
   "metadata": {},
   "outputs": [
    {
     "name": "stdout",
     "output_type": "stream",
     "text": [
      "CPU times: user 6.59 s, sys: 769 ms, total: 7.36 s\n",
      "Wall time: 7.12 s\n"
     ]
    }
   ],
   "source": [
    "%%time\n",
    "module_url = \"https://tfhub.dev/tensorflow/bert_en_uncased_L-12_H-768_A-12/1\"\n",
    "bert_layer = hub.KerasLayer(module_url, trainable=True)"
   ]
  },
  {
   "cell_type": "code",
   "execution_count": 102,
   "metadata": {},
   "outputs": [],
   "source": [
    "vocab_file = bert_layer.resolved_object.vocab_file.asset_path.numpy()\n",
    "do_lower_case = bert_layer.resolved_object.do_lower_case.numpy()\n",
    "tokenizer = tokenization.FullTokenizer(vocab_file, do_lower_case)"
   ]
  },
  {
   "cell_type": "code",
   "execution_count": 103,
   "metadata": {},
   "outputs": [],
   "source": [
    "train_input = bert_encode(train_df.text.values, tokenizer, max_len=160)\n",
    "test_input = bert_encode(test_df.text.values, tokenizer, max_len=160)\n",
    "train_labels = train_df.target.values"
   ]
  },
  {
   "cell_type": "code",
   "execution_count": 104,
   "metadata": {},
   "outputs": [
    {
     "name": "stdout",
     "output_type": "stream",
     "text": [
      "Model: \"model_1\"\n",
      "__________________________________________________________________________________________________\n",
      "Layer (type)                    Output Shape         Param #     Connected to                     \n",
      "==================================================================================================\n",
      "input_word_ids (InputLayer)     [(None, 160)]        0                                            \n",
      "__________________________________________________________________________________________________\n",
      "input_mask (InputLayer)         [(None, 160)]        0                                            \n",
      "__________________________________________________________________________________________________\n",
      "segment_ids (InputLayer)        [(None, 160)]        0                                            \n",
      "__________________________________________________________________________________________________\n",
      "keras_layer_1 (KerasLayer)      [(None, 768), (None, 109482241   input_word_ids[0][0]             \n",
      "                                                                 input_mask[0][0]                 \n",
      "                                                                 segment_ids[0][0]                \n",
      "__________________________________________________________________________________________________\n",
      "tf_op_layer_strided_slice_1 (Te [(None, 768)]        0           keras_layer_1[0][1]              \n",
      "__________________________________________________________________________________________________\n",
      "dense_1 (Dense)                 (None, 1)            769         tf_op_layer_strided_slice_1[0][0]\n",
      "==================================================================================================\n",
      "Total params: 109,483,010\n",
      "Trainable params: 109,483,009\n",
      "Non-trainable params: 1\n",
      "__________________________________________________________________________________________________\n"
     ]
    }
   ],
   "source": [
    "model = build_model(bert_layer, max_len=160)\n",
    "model.summary()"
   ]
  },
  {
   "cell_type": "code",
   "execution_count": 105,
   "metadata": {},
   "outputs": [
    {
     "name": "stdout",
     "output_type": "stream",
     "text": [
      "Train on 6090 samples, validate on 1523 samples\n",
      "Epoch 1/15\n",
      "6090/6090 [==============================] - 402s 66ms/sample - loss: 0.4988 - accuracy: 0.7591 - val_loss: 0.4057 - val_accuracy: 0.8240\n",
      "Epoch 2/15\n",
      "6090/6090 [==============================] - 381s 63ms/sample - loss: 0.3608 - accuracy: 0.8488 - val_loss: 0.3898 - val_accuracy: 0.8306\n",
      "Epoch 3/15\n",
      "6090/6090 [==============================] - 381s 63ms/sample - loss: 0.2945 - accuracy: 0.8787 - val_loss: 0.3911 - val_accuracy: 0.8404\n",
      "Epoch 4/15\n",
      "6090/6090 [==============================] - 381s 63ms/sample - loss: 0.2345 - accuracy: 0.9097 - val_loss: 0.4085 - val_accuracy: 0.8391\n",
      "Epoch 5/15\n",
      "6090/6090 [==============================] - 381s 63ms/sample - loss: 0.1752 - accuracy: 0.9376 - val_loss: 0.4364 - val_accuracy: 0.8319\n",
      "Epoch 6/15\n",
      "6090/6090 [==============================] - 381s 63ms/sample - loss: 0.1221 - accuracy: 0.9576 - val_loss: 0.4967 - val_accuracy: 0.8083\n",
      "Epoch 7/15\n",
      "6090/6090 [==============================] - 381s 63ms/sample - loss: 0.0850 - accuracy: 0.9708 - val_loss: 0.5172 - val_accuracy: 0.8227\n",
      "Epoch 8/15\n",
      "6090/6090 [==============================] - 381s 63ms/sample - loss: 0.0606 - accuracy: 0.9806 - val_loss: 0.5928 - val_accuracy: 0.8201\n",
      "Epoch 9/15\n",
      "6090/6090 [==============================] - 381s 63ms/sample - loss: 0.0452 - accuracy: 0.9849 - val_loss: 0.6082 - val_accuracy: 0.8299\n",
      "Epoch 10/15\n",
      "6090/6090 [==============================] - 381s 63ms/sample - loss: 0.0374 - accuracy: 0.9878 - val_loss: 0.6621 - val_accuracy: 0.8273\n",
      "Epoch 11/15\n",
      "6090/6090 [==============================] - 381s 62ms/sample - loss: 0.0293 - accuracy: 0.9883 - val_loss: 0.6986 - val_accuracy: 0.8227\n",
      "Epoch 12/15\n",
      "6090/6090 [==============================] - 381s 62ms/sample - loss: 0.0240 - accuracy: 0.9901 - val_loss: 0.7281 - val_accuracy: 0.8286\n",
      "Epoch 13/15\n",
      "6090/6090 [==============================] - 381s 63ms/sample - loss: 0.0191 - accuracy: 0.9923 - val_loss: 0.7613 - val_accuracy: 0.8313\n",
      "Epoch 14/15\n",
      "6090/6090 [==============================] - 381s 63ms/sample - loss: 0.0182 - accuracy: 0.9924 - val_loss: 0.7883 - val_accuracy: 0.8280\n",
      "Epoch 15/15\n",
      "6090/6090 [==============================] - 381s 63ms/sample - loss: 0.0151 - accuracy: 0.9936 - val_loss: 0.8310 - val_accuracy: 0.8214\n"
     ]
    }
   ],
   "source": [
    "train_history = model.fit(\n",
    "    train_input, train_labels,\n",
    "    validation_split=0.2,\n",
    "    epochs=15,\n",
    "    batch_size=16\n",
    ")\n",
    "\n",
    "model.save('model.h5')"
   ]
  },
  {
   "cell_type": "code",
   "execution_count": 106,
   "metadata": {},
   "outputs": [],
   "source": [
    "test_pred = model.predict(test_input)"
   ]
  },
  {
   "cell_type": "code",
   "execution_count": 107,
   "metadata": {},
   "outputs": [],
   "source": [
    "submission = pd.read_csv(\"/root/capsule/data/sample_submission.csv\")"
   ]
  },
  {
   "cell_type": "code",
   "execution_count": 108,
   "metadata": {},
   "outputs": [],
   "source": [
    "submission['target'] = test_pred.round().astype(int)\n",
    "submission.to_csv('submission-Bert-15.csv', index=False)"
   ]
  }
 ],
 "metadata": {
  "kernelspec": {
   "display_name": "Python 3",
   "language": "python",
   "name": "python3"
  },
  "language_info": {
   "codemirror_mode": {
    "name": "ipython",
    "version": 3
   },
   "file_extension": ".py",
   "mimetype": "text/x-python",
   "name": "python",
   "nbconvert_exporter": "python",
   "pygments_lexer": "ipython3",
   "version": "3.7.3"
  }
 },
 "nbformat": 4,
 "nbformat_minor": 4
}
